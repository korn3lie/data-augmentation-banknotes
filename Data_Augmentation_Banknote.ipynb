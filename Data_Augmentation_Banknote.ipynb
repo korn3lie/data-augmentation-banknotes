{
 "cells": [
  {
   "cell_type": "markdown",
   "metadata": {},
   "source": [
    "## **Generating Datasets from a single image**\n",
    "\n",
    "We have an image of a banknote and whant to generate a dataset from it that later will be used for training an autoencoder. This should reppresent clean banknotes.\n",
    "\n",
    "In the following we randomly apply **border crop, scaling, rotation, contrast change**."
   ]
  },
  {
   "cell_type": "code",
   "execution_count": 1,
   "metadata": {},
   "outputs": [],
   "source": [
    "import cv2\n",
    "import numpy as np\n",
    "import os\n",
    "from PIL import Image\n",
    "import utils"
   ]
  },
  {
   "cell_type": "code",
   "execution_count": 40,
   "metadata": {},
   "outputs": [],
   "source": [
    "def generate_augmented_images(original_image_path, output_dir, output_resolution, num_images):\n",
    "    \"\"\" Generate a dataset of augmented images from an original image.\n",
    "\n",
    "    Args:\n",
    "        original_image_path (_type_): _description_\n",
    "        output_dir (_type_): _description_\n",
    "        output_resolution (_type_): _description_\n",
    "        num_images (_type_): _description_\n",
    "    \"\"\"\n",
    "    output_dir_train = os.path.join(output_dir, 'train/good')\n",
    "    output_dir_test_good = os.path.join(output_dir, 'test/good')\n",
    "    output_dir_anomaly = os.path.join(output_dir, 'test/anomaly/')\n",
    "    output_dir_gt = os.path.join(output_dir, 'ground_truth/anomaly/')\n",
    "\n",
    "    os.makedirs(output_dir_train, exist_ok=True)\n",
    "    os.makedirs(output_dir_test_good, exist_ok=True)\n",
    "    os.makedirs(output_dir_anomaly, exist_ok=True)\n",
    "    os.makedirs(output_dir_gt, exist_ok=True)\n",
    "\n",
    "    original_image = cv2.imread(original_image_path)\n",
    "    \n",
    "    # ----------------------------------------------------------------------------\n",
    "    for i in range(num_images[0]):\n",
    "\n",
    "        new_image = utils.split_and_stack(original_image)\n",
    "        new_image = utils.augment(new_image, output_resolution)\n",
    "        output_path = os.path.join(output_dir_train, f'{str(i).zfill(5)}.png')\n",
    "        cv2.imwrite(output_path, new_image)\n",
    "\n",
    "    print(f\"Generated {num_images[0]} images in '{output_dir_train}'.\")\n",
    "\n",
    "    # ----------------------------------------------------------------------------\n",
    "    for i in range(num_images[1]):\n",
    "\n",
    "        new_image = utils.split_and_stack(original_image)\n",
    "        new_image = utils.augment(new_image, output_resolution)\n",
    "        output_path = os.path.join(output_dir_test_good, f'{str(i).zfill(5)}.png')\n",
    "        cv2.imwrite(output_path, new_image)\n",
    "\n",
    "    print(f\"Generated {num_images[1]} images in '{output_dir_test_good}'.\")\n",
    "\n",
    "    # ----------------------------------------------------------------------------\n",
    "    for i in range(num_images[2]):\n",
    "    \n",
    "        new_image = utils.split_and_stack(original_image)\n",
    "        new_image = utils.augment(new_image, output_resolution)\n",
    "\n",
    "        scribbles_text = random.choice([\"Erlangen\", \"0123456789\", \"Scribbles\", \"Prof. Lampe\", \"HS-Mittweida\", \"M.Draghi\", \"50 Euro\"])\n",
    "        new_image, mask = MyScribbles(new_image, scribbles_text = scribbles_text)\n",
    "\n",
    "    \n",
    "     \n",
    "        mask = cv2.bitwise_not(mask)\n",
    "        mask = cv2.cvtColor(mask, cv2.COLOR_BGR2GRAY)\n",
    "        _, mask = cv2.threshold(mask, 1, 255, cv2.THRESH_BINARY)\n",
    "\n",
    "        # Save the modified image to the dataset directory\n",
    "        output_path = os.path.join(output_dir_anomaly, f'{str(i).zfill(5)}.png')\n",
    "        if not cv2.imwrite(output_path, new_image):\n",
    "            raise Exception(\"Could not write image\")\n",
    "    \n",
    "        output_path = os.path.join(output_dir_gt, f'{str(i).zfill(5)}_mask.png')\n",
    "        if not cv2.imwrite(output_path, mask):\n",
    "            raise Exception(\"Could not write image\")\n",
    "\n",
    "\n",
    "    print(f\"Generated {num_images[2]} images in '{output_dir_anomaly}'.\")\n",
    "    print(f\"Generated {num_images[2]} images in '{output_dir_gt}'.\")\n",
    "\n",
    "    "
   ]
  },
  {
   "cell_type": "code",
   "execution_count": 41,
   "metadata": {},
   "outputs": [
    {
     "name": "stdout",
     "output_type": "stream",
     "text": [
      "Generated 14 images in 'augmented_front/train/good'.\n",
      "Generated 12 images in 'augmented_front/test/good'.\n",
      "['fonts\\\\journal.ttf']\n",
      "['fonts\\\\journal.ttf']\n",
      "['fonts\\\\journal.ttf']\n",
      "['fonts\\\\journal.ttf']\n",
      "['fonts\\\\journal.ttf']\n",
      "['fonts\\\\journal.ttf']\n",
      "['fonts\\\\journal.ttf']\n",
      "['fonts\\\\journal.ttf']\n",
      "['fonts\\\\journal.ttf']\n",
      "['fonts\\\\journal.ttf']\n",
      "Generated 10 images in 'augmented_front/test/anomaly/'.\n",
      "Generated 10 images in 'augmented_front/ground_truth/anomaly/'.\n"
     ]
    }
   ],
   "source": [
    "original_image_path = '50euro_front.jpg'\n",
    "output_dir = 'augmented_front/'     # folder/subfolder/subsubfolder/\n",
    "output_resolution = (1024, 1024)\n",
    "num_images = [14, 12, 10]\t        # Number of images per class: [train, test_good, test_bad]\n",
    "\n",
    "generate_augmented_images(original_image_path, output_dir, output_resolution, num_images)\n"
   ]
  },
  {
   "cell_type": "markdown",
   "metadata": {},
   "source": [
    "We aslo want some banknotes with anomalies. The library [augraphy](https://github.com/sparkfish/augraphy) can be used for it."
   ]
  },
  {
   "cell_type": "code",
   "execution_count": 3,
   "metadata": {},
   "outputs": [],
   "source": [
    "from augraphy import *\n",
    "import random\n",
    "from glob import glob\n",
    "import numpy as np\n",
    "from ink2 import InkGenerator\n",
    "\n",
    "# Applies the Augmentation to input data.\n",
    "def MyScribbles(image, \n",
    "                layer=None, \n",
    "                mask=None, \n",
    "                keypoints=None, \n",
    "                bounding_boxes=None, \n",
    "                force=False,\n",
    "                fonts_directory = \"fonts/\",\n",
    "                scribbles_type=\"text\",\n",
    "                scribbles_ink=\"pen\",\n",
    "                scribbles_location=\"random\",\n",
    "                scribbles_size_range=(300, 400),\n",
    "                scribbles_count_range=(1, 1),\n",
    "                scribbles_thickness_range=(1, 1),\n",
    "                scribbles_brightness_change=[32, 64, 128],\n",
    "                scribbles_skeletonize=0,\n",
    "                scribbles_skeletonize_iterations=(2, 3),\n",
    "                scribbles_color=(0,0,0),\n",
    "                scribbles_text = random.choice([\"Erlangen\", \"0123456789\", \"Scribbles\", \"Prof. Lampe\", \"HS-Mittweida\"]),\n",
    "                \n",
    "                scribbles_text_rotate_range=(-30, 30),\n",
    "                scribbles_lines_stroke_count_range=(1, 10),\n",
    "                p=1):\n",
    "    \n",
    "    # ink_type: Types of ink, select from \"pencil\", \"pen\", \"marker\" or \"highlighter\"\n",
    "    \n",
    "    fonts_list = glob(fonts_directory + \"/*.ttf\")\n",
    "    #print(fonts_list)\n",
    "\n",
    "    if scribbles_type == \"random\":\n",
    "        scribbles_type = random.choice([\"lines\", \"texts\"])\n",
    "    else:\n",
    "        scribbles_type = scribbles_type\n",
    "\n",
    "    if scribbles_ink == \"random\":\n",
    "        scribbles_ink = random.choice([\"pencil\", \"pen\", \"marker\", \"highlighter\"])\n",
    "    else:\n",
    "        scribbles_ink = scribbles_ink\n",
    "\n",
    "    if scribbles_skeletonize == \"random\":\n",
    "        scribbles_skeletonize = random.choice([0, 1])\n",
    "    else:\n",
    "        scribbles_skeletonize = scribbles_skeletonize\n",
    "\n",
    "    if scribbles_color == \"random\":\n",
    "        scribbles_color = (random.randint(0, 255), random.randint(0, 255), random.randint(0, 255))\n",
    "    else:\n",
    "        scribbles_color = scribbles_color\n",
    "\n",
    "    if scribbles_location != \"random\":\n",
    "        ysize, xsize = image.shape[:2]\n",
    "        target_x, target_y = scribbles_location\n",
    "        # check if provided location is float and scale them with target size\n",
    "        if target_x >= 0 and target_x <= 1 and isinstance(target_x, float):\n",
    "            target_x = int(target_x * xsize)\n",
    "        if target_y >= 0 and target_y <= 1 and isinstance(target_y, float):\n",
    "            target_y = int(target_y * ysize)\n",
    "        scribbles_location = (target_x, target_y)\n",
    "    else:\n",
    "        scribbles_location = scribbles_location\n",
    "\n",
    "    # create an ink generator and generate scribbles\n",
    "    ink_generator = InkGenerator(\n",
    "                ink_type=scribbles_ink,\n",
    "                ink_draw_method=scribbles_type,\n",
    "                ink_draw_iterations=scribbles_count_range,\n",
    "                ink_location=scribbles_location,\n",
    "                ink_background=image,\n",
    "                ink_background_size=None,\n",
    "                ink_background_color=None,\n",
    "                ink_color=scribbles_color,\n",
    "                ink_min_brightness=0,\n",
    "                ink_min_brightness_value_range=(0, 0),\n",
    "                ink_draw_size_range=scribbles_size_range,\n",
    "                ink_thickness_range=scribbles_thickness_range,\n",
    "                ink_brightness_change=scribbles_brightness_change,\n",
    "                ink_skeletonize=scribbles_skeletonize,\n",
    "                ink_skeletonize_iterations_range=scribbles_skeletonize_iterations,\n",
    "                ink_text=scribbles_text,\n",
    "                ink_text_font=fonts_list,\n",
    "                ink_text_rotate_range=scribbles_text_rotate_range,\n",
    "                ink_lines_coordinates=\"random\",\n",
    "                ink_lines_stroke_count_range=scribbles_lines_stroke_count_range,\n",
    "            )\n",
    "\n",
    "    img_size = image.shape[0:2]\n",
    "\n",
    "    img = np.zeros((1024, 1024, 3), dtype = \"uint8\")\n",
    "\n",
    "    image_output, mask_output = ink_generator.generate_ink()\n",
    "\n",
    "    return image_output, mask_output"
   ]
  },
  {
   "cell_type": "code",
   "execution_count": 48,
   "metadata": {},
   "outputs": [
    {
     "name": "stdout",
     "output_type": "stream",
     "text": [
      "Generated 14 images in 'augmented_front/train/good'.\n",
      "Generated 12 images in 'augmented_front/test/good'.\n",
      "['fonts\\\\journal.ttf']\n",
      "['fonts\\\\journal.ttf']\n",
      "['fonts\\\\journal.ttf']\n",
      "['fonts\\\\journal.ttf']\n",
      "['fonts\\\\journal.ttf']\n",
      "['fonts\\\\journal.ttf']\n",
      "['fonts\\\\journal.ttf']\n",
      "['fonts\\\\journal.ttf']\n",
      "['fonts\\\\journal.ttf']\n",
      "['fonts\\\\journal.ttf']\n",
      "Generated 10 images in 'augmented_front/test/anomaly/'.\n",
      "Generated 10 images in 'augmented_front/ground_truth/anomaly/'.\n"
     ]
    }
   ],
   "source": [
    "generate_augmented_images(original_image_path, output_dir, output_resolution, num_images)"
   ]
  },
  {
   "cell_type": "code",
   "execution_count": 2,
   "metadata": {},
   "outputs": [
    {
     "name": "stdout",
     "output_type": "stream",
     "text": [
      "Done!\n"
     ]
    }
   ],
   "source": [
    "# Rename files\n",
    "folder_path = 'real_front/train/good/'\n",
    "utils.rename_files(folder_path)"
   ]
  },
  {
   "cell_type": "markdown",
   "metadata": {},
   "source": [
    "##### Iterates over a directory creating new images from existing ones. Outputs the images with scribbles and their binary masks."
   ]
  },
  {
   "cell_type": "code",
   "execution_count": 59,
   "metadata": {},
   "outputs": [
    {
     "name": "stdout",
     "output_type": "stream",
     "text": [
      "00001.png\n",
      "00002.png\n",
      "00003.png\n",
      "00004.png\n",
      "00005.png\n",
      "00006.png\n",
      "00007.png\n",
      "00008.png\n",
      "00009.png\n",
      "00010.png\n",
      "00011.png\n",
      "00012.png\n",
      "00013.png\n",
      "00014.png\n",
      "00015.png\n",
      "Generated 15 images.\n"
     ]
    }
   ],
   "source": [
    "directory_path = 'real_front/test/good/'\n",
    "\n",
    "# Define the output directory for the dataset\n",
    "output_dir_anomaly = 'real_front/test/anomaly/'\n",
    "output_dir_gt = 'real_front/ground_truth/anomaly/'\n",
    "# Create the output directory if it doesn't exist\n",
    "os.makedirs(output_dir_anomaly, exist_ok=True)\n",
    "os.makedirs(output_dir_gt, exist_ok=True)\n",
    "\n",
    "\n",
    "# Define the resolution for the resulting images\n",
    "output_resolution = (1024, 1024)\n",
    "\n",
    "\n",
    "i = 0\n",
    "for filename in os.listdir(directory_path):\n",
    "    i += 1\n",
    "    print(filename)\n",
    "    \n",
    "    image = cv2.imread(directory_path + filename)\n",
    "    #image = cv2.rotate(image, cv2.ROTATE_180)\n",
    "    #image = split_and_stack(image)\n",
    "    #image = cv2.resize(image, output_resolution)\n",
    "\n",
    "\n",
    "    scribbles_text = random.choice([\"0123456789\", \"Scribbles\", \"Prof. Lampe\", \"HS-Mittweida\", \"M.Draghi\", \"50 Euro\"])\n",
    "    image, mask = MyScribbles(image, scribbles_text = scribbles_text)\n",
    "\n",
    "    \n",
    "     \n",
    "    mask = cv2.bitwise_not(mask)\n",
    "    mask = cv2.cvtColor(mask, cv2.COLOR_BGR2GRAY)\n",
    "    _, mask = cv2.threshold(mask, 1, 255, cv2.THRESH_BINARY)\n",
    "\n",
    "    # Save the modified image to the dataset directory\n",
    "    output_path = os.path.join(output_dir_anomaly, f'{str(i).zfill(5)}.png')\n",
    "    if not cv2.imwrite(output_path, image):\n",
    "        raise Exception(\"Could not write image\")\n",
    "    \n",
    "    output_path = os.path.join(output_dir_gt, f'{str(i).zfill(5)}_mask.png')\n",
    "    if not cv2.imwrite(output_path, mask):\n",
    "        raise Exception(\"Could not write image\")\n",
    "\n",
    "\n",
    "print(f\"Generated {i} images.\")\n"
   ]
  },
  {
   "cell_type": "code",
   "execution_count": 8,
   "metadata": {},
   "outputs": [
    {
     "name": "stdout",
     "output_type": "stream",
     "text": [
      "Done.\n"
     ]
    }
   ],
   "source": [
    "# resize and rotate only\n",
    "\n",
    "directory_path = 'real_back/excluded/'\n",
    "output_resolution = (1024, 1024)\n",
    "\n",
    "\n",
    "for filename in os.listdir(directory_path):\n",
    "\n",
    "    img_path = os.path.join(directory_path, filename)\n",
    "    image = cv2.imread(img_path)\n",
    "    image = cv2.rotate(image, cv2.ROTATE_180)\n",
    "    image = cv2.resize(image, output_resolution)\n",
    "    \n",
    "    if not cv2.imwrite(img_path, image):\n",
    "        raise Exception(\"Could not write image\")\n",
    "    \n",
    "\n",
    "print(f\"Done.\")"
   ]
  },
  {
   "cell_type": "code",
   "execution_count": 15,
   "metadata": {},
   "outputs": [
    {
     "name": "stdout",
     "output_type": "stream",
     "text": [
      "Done.\n"
     ]
    }
   ],
   "source": [
    "#utils.resize_and_rotate((1024, 1024), 'EUR50_1/back/bad/', 'EUR50_1/back/bad/transformed/')"
   ]
  }
 ],
 "metadata": {
  "kernelspec": {
   "display_name": "base",
   "language": "python",
   "name": "python3"
  },
  "language_info": {
   "codemirror_mode": {
    "name": "ipython",
    "version": 3
   },
   "file_extension": ".py",
   "mimetype": "text/x-python",
   "name": "python",
   "nbconvert_exporter": "python",
   "pygments_lexer": "ipython3",
   "version": "3.11.4"
  }
 },
 "nbformat": 4,
 "nbformat_minor": 2
}
